{
 "cells": [
  {
   "cell_type": "code",
   "execution_count": 1,
   "metadata": {},
   "outputs": [],
   "source": [
    "import numpy as np\n",
    "import pandas as pd\n",
    "import math\n",
    "import matplotlib.pyplot as plt\n",
    "from matplotlib import cm\n",
    "%matplotlib inline\n",
    "import seaborn as sns\n",
    "from sklearn.model_selection import train_test_split\n",
    "from pandas.plotting import scatter_matrix\n",
    "from sklearn.model_selection import GridSearchCV\n",
    "from sklearn import metrics\n",
    "from sklearn.svm import SVC\n",
    "from sklearn.linear_model import LogisticRegression\n",
    "from sklearn.metrics import classification_report\n",
    "from sklearn.metrics import roc_curve\n",
    "from sklearn.metrics import precision_recall_fscore_support\n",
    "from sklearn.metrics import confusion_matrix\n",
    "from sklearn.metrics import accuracy_score\n",
    "from sklearn.metrics import roc_auc_score"
   ]
  },
  {
   "cell_type": "code",
   "execution_count": null,
   "metadata": {},
   "outputs": [],
   "source": []
  },
  {
   "cell_type": "code",
   "execution_count": 2,
   "metadata": {},
   "outputs": [
    {
     "data": {
      "text/html": [
       "<div>\n",
       "<style scoped>\n",
       "    .dataframe tbody tr th:only-of-type {\n",
       "        vertical-align: middle;\n",
       "    }\n",
       "\n",
       "    .dataframe tbody tr th {\n",
       "        vertical-align: top;\n",
       "    }\n",
       "\n",
       "    .dataframe thead th {\n",
       "        text-align: right;\n",
       "    }\n",
       "</style>\n",
       "<table border=\"1\" class=\"dataframe\">\n",
       "  <thead>\n",
       "    <tr style=\"text-align: right;\">\n",
       "      <th></th>\n",
       "      <th>credit.policy</th>\n",
       "      <th>purpose</th>\n",
       "      <th>int.rate</th>\n",
       "      <th>installment</th>\n",
       "      <th>log.annual.inc</th>\n",
       "      <th>dti</th>\n",
       "      <th>fico</th>\n",
       "      <th>days.with.cr.line</th>\n",
       "      <th>revol.bal</th>\n",
       "      <th>revol.util</th>\n",
       "      <th>inq.last.6mths</th>\n",
       "      <th>delinq.2yrs</th>\n",
       "      <th>pub.rec</th>\n",
       "      <th>not.fully.paid</th>\n",
       "    </tr>\n",
       "  </thead>\n",
       "  <tbody>\n",
       "    <tr>\n",
       "      <td>0</td>\n",
       "      <td>1</td>\n",
       "      <td>debt_consolidation</td>\n",
       "      <td>0.1189</td>\n",
       "      <td>829.10</td>\n",
       "      <td>11.350407</td>\n",
       "      <td>19.48</td>\n",
       "      <td>737</td>\n",
       "      <td>5639.958333</td>\n",
       "      <td>28854</td>\n",
       "      <td>52.1</td>\n",
       "      <td>0</td>\n",
       "      <td>0</td>\n",
       "      <td>0</td>\n",
       "      <td>0</td>\n",
       "    </tr>\n",
       "    <tr>\n",
       "      <td>1</td>\n",
       "      <td>1</td>\n",
       "      <td>credit_card</td>\n",
       "      <td>0.1071</td>\n",
       "      <td>228.22</td>\n",
       "      <td>11.082143</td>\n",
       "      <td>14.29</td>\n",
       "      <td>707</td>\n",
       "      <td>2760.000000</td>\n",
       "      <td>33623</td>\n",
       "      <td>76.7</td>\n",
       "      <td>0</td>\n",
       "      <td>0</td>\n",
       "      <td>0</td>\n",
       "      <td>0</td>\n",
       "    </tr>\n",
       "    <tr>\n",
       "      <td>2</td>\n",
       "      <td>1</td>\n",
       "      <td>debt_consolidation</td>\n",
       "      <td>0.1357</td>\n",
       "      <td>366.86</td>\n",
       "      <td>10.373491</td>\n",
       "      <td>11.63</td>\n",
       "      <td>682</td>\n",
       "      <td>4710.000000</td>\n",
       "      <td>3511</td>\n",
       "      <td>25.6</td>\n",
       "      <td>1</td>\n",
       "      <td>0</td>\n",
       "      <td>0</td>\n",
       "      <td>0</td>\n",
       "    </tr>\n",
       "    <tr>\n",
       "      <td>3</td>\n",
       "      <td>1</td>\n",
       "      <td>debt_consolidation</td>\n",
       "      <td>0.1008</td>\n",
       "      <td>162.34</td>\n",
       "      <td>11.350407</td>\n",
       "      <td>8.10</td>\n",
       "      <td>712</td>\n",
       "      <td>2699.958333</td>\n",
       "      <td>33667</td>\n",
       "      <td>73.2</td>\n",
       "      <td>1</td>\n",
       "      <td>0</td>\n",
       "      <td>0</td>\n",
       "      <td>0</td>\n",
       "    </tr>\n",
       "    <tr>\n",
       "      <td>4</td>\n",
       "      <td>1</td>\n",
       "      <td>credit_card</td>\n",
       "      <td>0.1426</td>\n",
       "      <td>102.92</td>\n",
       "      <td>11.299732</td>\n",
       "      <td>14.97</td>\n",
       "      <td>667</td>\n",
       "      <td>4066.000000</td>\n",
       "      <td>4740</td>\n",
       "      <td>39.5</td>\n",
       "      <td>0</td>\n",
       "      <td>1</td>\n",
       "      <td>0</td>\n",
       "      <td>0</td>\n",
       "    </tr>\n",
       "  </tbody>\n",
       "</table>\n",
       "</div>"
      ],
      "text/plain": [
       "   credit.policy             purpose  int.rate  installment  log.annual.inc  \\\n",
       "0              1  debt_consolidation    0.1189       829.10       11.350407   \n",
       "1              1         credit_card    0.1071       228.22       11.082143   \n",
       "2              1  debt_consolidation    0.1357       366.86       10.373491   \n",
       "3              1  debt_consolidation    0.1008       162.34       11.350407   \n",
       "4              1         credit_card    0.1426       102.92       11.299732   \n",
       "\n",
       "     dti  fico  days.with.cr.line  revol.bal  revol.util  inq.last.6mths  \\\n",
       "0  19.48   737        5639.958333      28854        52.1               0   \n",
       "1  14.29   707        2760.000000      33623        76.7               0   \n",
       "2  11.63   682        4710.000000       3511        25.6               1   \n",
       "3   8.10   712        2699.958333      33667        73.2               1   \n",
       "4  14.97   667        4066.000000       4740        39.5               0   \n",
       "\n",
       "   delinq.2yrs  pub.rec  not.fully.paid  \n",
       "0            0        0               0  \n",
       "1            0        0               0  \n",
       "2            0        0               0  \n",
       "3            0        0               0  \n",
       "4            1        0               0  "
      ]
     },
     "execution_count": 2,
     "metadata": {},
     "output_type": "execute_result"
    }
   ],
   "source": [
    "df = pd.read_csv('C:/Users/valej/Desktop/DATA-765/HWs/loan_data.csv')\n",
    "df.head()"
   ]
  },
  {
   "cell_type": "code",
   "execution_count": 3,
   "metadata": {},
   "outputs": [
    {
     "data": {
      "text/html": [
       "<div>\n",
       "<style scoped>\n",
       "    .dataframe tbody tr th:only-of-type {\n",
       "        vertical-align: middle;\n",
       "    }\n",
       "\n",
       "    .dataframe tbody tr th {\n",
       "        vertical-align: top;\n",
       "    }\n",
       "\n",
       "    .dataframe thead th {\n",
       "        text-align: right;\n",
       "    }\n",
       "</style>\n",
       "<table border=\"1\" class=\"dataframe\">\n",
       "  <thead>\n",
       "    <tr style=\"text-align: right;\">\n",
       "      <th></th>\n",
       "      <th>credit.policy</th>\n",
       "      <th>int.rate</th>\n",
       "      <th>installment</th>\n",
       "      <th>log.annual.inc</th>\n",
       "      <th>dti</th>\n",
       "      <th>fico</th>\n",
       "      <th>days.with.cr.line</th>\n",
       "      <th>revol.bal</th>\n",
       "      <th>revol.util</th>\n",
       "      <th>inq.last.6mths</th>\n",
       "      <th>delinq.2yrs</th>\n",
       "      <th>pub.rec</th>\n",
       "      <th>not.fully.paid</th>\n",
       "    </tr>\n",
       "  </thead>\n",
       "  <tbody>\n",
       "    <tr>\n",
       "      <td>count</td>\n",
       "      <td>9578.000000</td>\n",
       "      <td>9578.000000</td>\n",
       "      <td>9578.000000</td>\n",
       "      <td>9578.000000</td>\n",
       "      <td>9578.000000</td>\n",
       "      <td>9578.000000</td>\n",
       "      <td>9578.000000</td>\n",
       "      <td>9.578000e+03</td>\n",
       "      <td>9578.000000</td>\n",
       "      <td>9578.000000</td>\n",
       "      <td>9578.000000</td>\n",
       "      <td>9578.000000</td>\n",
       "      <td>9578.000000</td>\n",
       "    </tr>\n",
       "    <tr>\n",
       "      <td>mean</td>\n",
       "      <td>0.804970</td>\n",
       "      <td>0.122640</td>\n",
       "      <td>319.089413</td>\n",
       "      <td>10.932117</td>\n",
       "      <td>12.606679</td>\n",
       "      <td>710.846314</td>\n",
       "      <td>4560.767197</td>\n",
       "      <td>1.691396e+04</td>\n",
       "      <td>46.799236</td>\n",
       "      <td>1.577469</td>\n",
       "      <td>0.163708</td>\n",
       "      <td>0.062122</td>\n",
       "      <td>0.160054</td>\n",
       "    </tr>\n",
       "    <tr>\n",
       "      <td>std</td>\n",
       "      <td>0.396245</td>\n",
       "      <td>0.026847</td>\n",
       "      <td>207.071301</td>\n",
       "      <td>0.614813</td>\n",
       "      <td>6.883970</td>\n",
       "      <td>37.970537</td>\n",
       "      <td>2496.930377</td>\n",
       "      <td>3.375619e+04</td>\n",
       "      <td>29.014417</td>\n",
       "      <td>2.200245</td>\n",
       "      <td>0.546215</td>\n",
       "      <td>0.262126</td>\n",
       "      <td>0.366676</td>\n",
       "    </tr>\n",
       "    <tr>\n",
       "      <td>min</td>\n",
       "      <td>0.000000</td>\n",
       "      <td>0.060000</td>\n",
       "      <td>15.670000</td>\n",
       "      <td>7.547502</td>\n",
       "      <td>0.000000</td>\n",
       "      <td>612.000000</td>\n",
       "      <td>178.958333</td>\n",
       "      <td>0.000000e+00</td>\n",
       "      <td>0.000000</td>\n",
       "      <td>0.000000</td>\n",
       "      <td>0.000000</td>\n",
       "      <td>0.000000</td>\n",
       "      <td>0.000000</td>\n",
       "    </tr>\n",
       "    <tr>\n",
       "      <td>25%</td>\n",
       "      <td>1.000000</td>\n",
       "      <td>0.103900</td>\n",
       "      <td>163.770000</td>\n",
       "      <td>10.558414</td>\n",
       "      <td>7.212500</td>\n",
       "      <td>682.000000</td>\n",
       "      <td>2820.000000</td>\n",
       "      <td>3.187000e+03</td>\n",
       "      <td>22.600000</td>\n",
       "      <td>0.000000</td>\n",
       "      <td>0.000000</td>\n",
       "      <td>0.000000</td>\n",
       "      <td>0.000000</td>\n",
       "    </tr>\n",
       "    <tr>\n",
       "      <td>50%</td>\n",
       "      <td>1.000000</td>\n",
       "      <td>0.122100</td>\n",
       "      <td>268.950000</td>\n",
       "      <td>10.928884</td>\n",
       "      <td>12.665000</td>\n",
       "      <td>707.000000</td>\n",
       "      <td>4139.958333</td>\n",
       "      <td>8.596000e+03</td>\n",
       "      <td>46.300000</td>\n",
       "      <td>1.000000</td>\n",
       "      <td>0.000000</td>\n",
       "      <td>0.000000</td>\n",
       "      <td>0.000000</td>\n",
       "    </tr>\n",
       "    <tr>\n",
       "      <td>75%</td>\n",
       "      <td>1.000000</td>\n",
       "      <td>0.140700</td>\n",
       "      <td>432.762500</td>\n",
       "      <td>11.291293</td>\n",
       "      <td>17.950000</td>\n",
       "      <td>737.000000</td>\n",
       "      <td>5730.000000</td>\n",
       "      <td>1.824950e+04</td>\n",
       "      <td>70.900000</td>\n",
       "      <td>2.000000</td>\n",
       "      <td>0.000000</td>\n",
       "      <td>0.000000</td>\n",
       "      <td>0.000000</td>\n",
       "    </tr>\n",
       "    <tr>\n",
       "      <td>max</td>\n",
       "      <td>1.000000</td>\n",
       "      <td>0.216400</td>\n",
       "      <td>940.140000</td>\n",
       "      <td>14.528354</td>\n",
       "      <td>29.960000</td>\n",
       "      <td>827.000000</td>\n",
       "      <td>17639.958330</td>\n",
       "      <td>1.207359e+06</td>\n",
       "      <td>119.000000</td>\n",
       "      <td>33.000000</td>\n",
       "      <td>13.000000</td>\n",
       "      <td>5.000000</td>\n",
       "      <td>1.000000</td>\n",
       "    </tr>\n",
       "  </tbody>\n",
       "</table>\n",
       "</div>"
      ],
      "text/plain": [
       "       credit.policy     int.rate  installment  log.annual.inc          dti  \\\n",
       "count    9578.000000  9578.000000  9578.000000     9578.000000  9578.000000   \n",
       "mean        0.804970     0.122640   319.089413       10.932117    12.606679   \n",
       "std         0.396245     0.026847   207.071301        0.614813     6.883970   \n",
       "min         0.000000     0.060000    15.670000        7.547502     0.000000   \n",
       "25%         1.000000     0.103900   163.770000       10.558414     7.212500   \n",
       "50%         1.000000     0.122100   268.950000       10.928884    12.665000   \n",
       "75%         1.000000     0.140700   432.762500       11.291293    17.950000   \n",
       "max         1.000000     0.216400   940.140000       14.528354    29.960000   \n",
       "\n",
       "              fico  days.with.cr.line     revol.bal   revol.util  \\\n",
       "count  9578.000000        9578.000000  9.578000e+03  9578.000000   \n",
       "mean    710.846314        4560.767197  1.691396e+04    46.799236   \n",
       "std      37.970537        2496.930377  3.375619e+04    29.014417   \n",
       "min     612.000000         178.958333  0.000000e+00     0.000000   \n",
       "25%     682.000000        2820.000000  3.187000e+03    22.600000   \n",
       "50%     707.000000        4139.958333  8.596000e+03    46.300000   \n",
       "75%     737.000000        5730.000000  1.824950e+04    70.900000   \n",
       "max     827.000000       17639.958330  1.207359e+06   119.000000   \n",
       "\n",
       "       inq.last.6mths  delinq.2yrs      pub.rec  not.fully.paid  \n",
       "count     9578.000000  9578.000000  9578.000000     9578.000000  \n",
       "mean         1.577469     0.163708     0.062122        0.160054  \n",
       "std          2.200245     0.546215     0.262126        0.366676  \n",
       "min          0.000000     0.000000     0.000000        0.000000  \n",
       "25%          0.000000     0.000000     0.000000        0.000000  \n",
       "50%          1.000000     0.000000     0.000000        0.000000  \n",
       "75%          2.000000     0.000000     0.000000        0.000000  \n",
       "max         33.000000    13.000000     5.000000        1.000000  "
      ]
     },
     "execution_count": 3,
     "metadata": {},
     "output_type": "execute_result"
    }
   ],
   "source": [
    "df.describe()"
   ]
  },
  {
   "cell_type": "code",
   "execution_count": 12,
   "metadata": {},
   "outputs": [
    {
     "name": "stdout",
     "output_type": "stream",
     "text": [
      "<class 'pandas.core.frame.DataFrame'>\n",
      "RangeIndex: 9578 entries, 0 to 9577\n",
      "Data columns (total 19 columns):\n",
      "credit.policy                 9578 non-null int64\n",
      "int.rate                      9578 non-null float64\n",
      "installment                   9578 non-null float64\n",
      "log.annual.inc                9578 non-null float64\n",
      "dti                           9578 non-null float64\n",
      "fico                          9578 non-null int64\n",
      "days.with.cr.line             9578 non-null float64\n",
      "revol.bal                     9578 non-null int64\n",
      "revol.util                    9578 non-null float64\n",
      "inq.last.6mths                9578 non-null int64\n",
      "delinq.2yrs                   9578 non-null int64\n",
      "pub.rec                       9578 non-null int64\n",
      "not.fully.paid                9578 non-null int64\n",
      "purpose_credit_card           9578 non-null uint8\n",
      "purpose_debt_consolidation    9578 non-null uint8\n",
      "purpose_educational           9578 non-null uint8\n",
      "purpose_home_improvement      9578 non-null uint8\n",
      "purpose_major_purchase        9578 non-null uint8\n",
      "purpose_small_business        9578 non-null uint8\n",
      "dtypes: float64(6), int64(7), uint8(6)\n",
      "memory usage: 1.0 MB\n"
     ]
    }
   ],
   "source": [
    "#categorical_features = ['purpose']\n",
    "#df = pd.get_dummies(df, columns=categorical_features, drop_first=True)\n",
    "df.info()"
   ]
  },
  {
   "cell_type": "code",
   "execution_count": 5,
   "metadata": {},
   "outputs": [],
   "source": [
    "X=df.drop('not.fully.paid',axis=1)\n",
    "y=df['not.fully.paid']"
   ]
  },
  {
   "cell_type": "code",
   "execution_count": 6,
   "metadata": {},
   "outputs": [
    {
     "data": {
      "image/png": "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\n",
      "text/plain": [
       "<Figure size 432x288 with 1 Axes>"
      ]
     },
     "metadata": {},
     "output_type": "display_data"
    }
   ],
   "source": [
    "#description of target variable\n",
    "sns.set_style('whitegrid')\n",
    "sns.countplot(x='not.fully.paid',data=df)\n",
    "plt.title(\"Histogram of Loan Status\",fontsize=15)\n",
    "plt.xlabel(\"Loan Satus\",fontsize= 12)\n",
    "plt.ylabel(\"Frequency\",fontsize= 12);"
   ]
  },
  {
   "cell_type": "markdown",
   "metadata": {},
   "source": [
    "### Training the Dataset"
   ]
  },
  {
   "cell_type": "code",
   "execution_count": 7,
   "metadata": {},
   "outputs": [],
   "source": [
    "#Creating training and testing sets \n",
    "X_train, X_test, y_train, y_test = train_test_split(X,y,test_size=.3,random_state= 123)"
   ]
  },
  {
   "cell_type": "markdown",
   "metadata": {},
   "source": [
<<<<<<< HEAD
    "### Imbalanced categories in the \"not.fully.paid\" target variable\n",
=======
    "### Imbalanced categories in the \"loan_status\" target variable\n",
>>>>>>> 6140165ac898b61e9622d77d830c878ae095de0c
    "Machine learning models work better when the samples in each class/category are close to equal (balanced). The data I am using for this model has a large imbalace in the 'not.fully.paid' vector. \n",
    "\n",
    "There are a handful of methods to deal with imbalanced data, most of them rely on resampling techniques. Given that I have too many \"Good\" observation in the target variable I decided to **undersample the majority class** to match the minority class. In order to accomplish this successfully, I need to make sure I split my data first. For more information on how to deal with imbalanced data click [here.](https://towardsdatascience.com/methods-for-dealing-with-imbalanced-data-5b761be45a18)"
   ]
  },
  {
   "cell_type": "markdown",
   "metadata": {},
   "source": [
    "#### Undersampling the majority class"
   ]
  },
  {
   "cell_type": "code",
   "execution_count": 8,
   "metadata": {},
   "outputs": [
    {
     "data": {
      "text/plain": [
       "1    1053\n",
       "0    1053\n",
       "Name: not.fully.paid, dtype: int64"
      ]
     },
     "execution_count": 8,
     "metadata": {},
     "output_type": "execute_result"
    }
   ],
   "source": [
    "from sklearn.utils import resample\n",
    "#downsampling majority class\n",
    "#concatenate our training data back together - AFTER SPLITTING\n",
    "X = pd.concat([X_train, y_train], axis=1)\n",
    "#separate minority and majority classes\n",
    "default = X[X['not.fully.paid']==1]\n",
    "good = X[X['not.fully.paid']==0]\n",
    "\n",
    "good_downsampled = resample(good,\n",
    "                            replace = False, # sample without replacement\n",
    "                            n_samples = len(default), # match minority n\n",
    "                            random_state = 27) # reproducible results\n",
    "\n",
    "# combine minority and downsampled majority\n",
    "downsampled = pd.concat([good_downsampled,default])\n",
    "downsampled['not.fully.paid'].value_counts()"
   ]
  },
  {
   "cell_type": "code",
   "execution_count": 9,
   "metadata": {},
   "outputs": [
    {
     "data": {
      "image/png": "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\n",
      "text/plain": [
       "<Figure size 432x288 with 1 Axes>"
      ]
     },
     "metadata": {},
     "output_type": "display_data"
    }
   ],
   "source": [
    "#description of target variable\n",
    "sns.set_style('whitegrid')\n",
    "sns.countplot(x='not.fully.paid',data=downsampled)\n",
    "plt.title(\"Histogram of Loan Status\",fontsize=15)\n",
    "plt.xlabel(\"not.fully.paid\",fontsize= 12)\n",
    "plt.ylabel(\"Frequency\",fontsize= 12);"
   ]
  },
  {
   "cell_type": "markdown",
   "metadata": {},
   "source": [
    "### Redefining my features and target"
   ]
  },
  {
   "cell_type": "code",
   "execution_count": 10,
   "metadata": {},
   "outputs": [],
   "source": [
    "df_final=downsampled\n",
    "y_train = df_final['not.fully.paid'] #target var after rebalancing\n",
    "X_train = df_final.drop('not.fully.paid',axis=1)#Features - explanatory vars\n",
    "#Creating training and testing sets \n",
    "X_train, X_test, y_train, y_test = train_test_split(X_train,y_train,test_size=.3,random_state= 123)"
   ]
  },
  {
   "cell_type": "markdown",
   "metadata": {},
   "source": [
    "### Creating the logistic regression model"
   ]
  },
  {
   "cell_type": "code",
   "execution_count": 11,
   "metadata": {},
   "outputs": [],
   "source": [
    "model = LogisticRegression(solver='lbfgs').fit(X_train, y_train)"
   ]
  },
  {
   "cell_type": "markdown",
   "metadata": {},
   "source": [
    "#### Coefficient Analysis\n",
    "The closer the intercept number gets to zero, this means the log odds of a non-default is approaching zero"
   ]
  },
  {
   "cell_type": "code",
   "execution_count": 14,
   "metadata": {},
   "outputs": [
    {
     "data": {
      "text/plain": [
       "array([[-1.75167792e-04,  1.43258308e-05,  6.84930067e-04,\n",
       "         1.06510458e-04,  1.22062297e-03, -8.01949745e-04,\n",
       "        -2.85747123e-05,  3.79911903e-07,  8.53648811e-03,\n",
       "         1.23780558e-03, -1.24099950e-06,  5.24302889e-05,\n",
       "        -6.69059626e-05, -3.52126243e-05,  4.58589289e-05,\n",
       "        -3.08553305e-06, -3.27438718e-06,  6.02122345e-05]])"
      ]
     },
     "execution_count": 14,
     "metadata": {},
     "output_type": "execute_result"
    }
   ],
   "source": [
    "model.coef_"
   ]
  },
  {
   "cell_type": "code",
   "execution_count": 15,
   "metadata": {},
   "outputs": [
    {
     "data": {
      "text/plain": [
       "array([2.4114614e-05])"
      ]
     },
     "execution_count": 15,
     "metadata": {},
     "output_type": "execute_result"
    }
   ],
   "source": [
    "model.intercept_"
   ]
  },
  {
   "cell_type": "markdown",
   "metadata": {},
   "source": [
    "### Model Accuracy scoring\n",
    "A simple way to analyse performance is with accuracy(number of correct prdictions/number of predictions). To calculate the accuracy I will use the score() method in the SciKit-Learn package. The method is applied to the trained model and it provides a percentage of correct predictions. "
   ]
  },
  {
   "cell_type": "code",
   "execution_count": 17,
   "metadata": {},
   "outputs": [
    {
     "data": {
      "text/plain": [
       "0.5537974683544303"
      ]
     },
     "execution_count": 17,
     "metadata": {},
     "output_type": "execute_result"
    }
   ],
   "source": [
    "model.score(X_test,y_test)"
   ]
  },
  {
   "cell_type": "markdown",
   "metadata": {},
   "source": [
    "The model predicted the default correctly 55% of the times."
   ]
  },
  {
   "cell_type": "markdown",
   "metadata": {},
   "source": [
    "### Predictions"
   ]
  },
  {
   "cell_type": "code",
   "execution_count": 19,
   "metadata": {},
   "outputs": [
    {
     "data": {
      "text/plain": [
       "array([[0.5710509 , 0.4289491 ],\n",
       "       [0.39571772, 0.60428228],\n",
       "       [0.38566462, 0.61433538],\n",
       "       ...,\n",
       "       [0.61479554, 0.38520446],\n",
       "       [0.63568886, 0.36431114],\n",
       "       [0.48227859, 0.51772141]])"
      ]
     },
     "execution_count": 19,
     "metadata": {},
     "output_type": "execute_result"
    }
   ],
   "source": [
    "model_pred=model.predict_proba(X_test)\n",
    "model_pred"
   ]
  },
  {
   "cell_type": "markdown",
   "metadata": {},
   "source": [
    "### Default Classification Report at a 50% Threshold\n",
    "If the probability of default is greater than 50%, the prediction will be classified as \"Default\"."
   ]
  },
  {
   "cell_type": "code",
   "execution_count": 71,
   "metadata": {},
   "outputs": [
    {
     "data": {
      "text/plain": [
       "1    537\n",
       "0     95\n",
       "Name: loan_status_pred, dtype: int64"
      ]
     },
     "execution_count": 71,
     "metadata": {},
     "output_type": "execute_result"
    }
   ],
   "source": [
    "#Default Classification Reporting & setting threshold at .60\n",
    "prob_default = pd.DataFrame(model_pred[:,1],columns=['Prob. of Default'])\n",
    "#Reassigning a new loan status based on the probability of default being above .60\n",
    "prob_default['loan_status_pred'] = prob_default['Prob. of Default'].apply(lambda x: 1 if x>.4 else 0)\n",
    "prob_default['loan_status_pred'].value_counts()"
   ]
  },
  {
   "cell_type": "code",
   "execution_count": 67,
   "metadata": {},
   "outputs": [
    {
     "name": "stdout",
     "output_type": "stream",
     "text": [
      "              precision    recall  f1-score   support\n",
      "\n",
      "           0       0.65      0.20      0.30       314\n",
      "           1       0.53      0.90      0.67       318\n",
      "\n",
      "    accuracy                           0.55       632\n",
      "   macro avg       0.59      0.55      0.48       632\n",
      "weighted avg       0.59      0.55      0.49       632\n",
      "\n"
     ]
    }
   ],
   "source": [
    "print(classification_report(y_test, prob_default['loan_status_pred']))"
   ]
  },
  {
   "cell_type": "markdown",
   "metadata": {},
   "source": [
    "### Confusion Matrix"
   ]
  },
  {
   "cell_type": "code",
   "execution_count": 68,
   "metadata": {},
   "outputs": [
    {
     "data": {
      "text/plain": [
       "array([[ 62, 252],\n",
       "       [ 33, 285]], dtype=int64)"
      ]
     },
     "execution_count": 68,
     "metadata": {},
     "output_type": "execute_result"
    }
   ],
   "source": [
    "confusion_matrix(y_test,prob_default['loan_status_pred'])"
   ]
  },
  {
   "cell_type": "markdown",
   "metadata": {},
   "source": [
    "### Receiver Operating Characteristics(RCO) & Area Under the Curve (AUC)\n",
    "In order to visualize the performance of the model, I created a ROC plot. I plotted the false posicive rate (x) and true positive rate (y). To calculate the area under the curve I used roc_auc_score(). \\\n",
    "For more information on AUC-ROC click [Here](https://towardsdatascience.com/understanding-auc-roc-curve-68b2303cc9c5)"
   ]
  },
  {
   "cell_type": "code",
   "execution_count": 69,
   "metadata": {},
   "outputs": [
    {
     "data": {
      "text/plain": [
       "[<matplotlib.lines.Line2D at 0x1fe7e713a48>]"
      ]
     },
     "execution_count": 69,
     "metadata": {},
     "output_type": "execute_result"
    },
    {
     "data": {
      "image/png": "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\n",
      "text/plain": [
       "<Figure size 432x288 with 1 Axes>"
      ]
     },
     "metadata": {},
     "output_type": "display_data"
    }
   ],
   "source": [
    "#plot\n",
    "prob_default = model_pred[:,1]\n",
    "fallout, sensitivity, thresholds = roc_curve(y_test, prob_default)\n",
    "plt.plot(fallout, sensitivity, color='darkorange')\n",
    "plt.plot([0,1],[0,1], linestyle= '--')"
   ]
  },
  {
   "cell_type": "code",
   "execution_count": 70,
   "metadata": {},
   "outputs": [
    {
     "data": {
      "text/plain": [
       "0.5924568361174538"
      ]
     },
     "execution_count": 70,
     "metadata": {},
     "output_type": "execute_result"
    }
   ],
   "source": [
    "auc=roc_auc_score(y_test,prob_default)\n",
    "auc"
   ]
  },
  {
   "cell_type": "code",
   "execution_count": 63,
   "metadata": {},
   "outputs": [
    {
     "data": {
      "text/html": [
       "<div>\n",
       "<style scoped>\n",
       "    .dataframe tbody tr th:only-of-type {\n",
       "        vertical-align: middle;\n",
       "    }\n",
       "\n",
       "    .dataframe tbody tr th {\n",
       "        vertical-align: top;\n",
       "    }\n",
       "\n",
       "    .dataframe thead th {\n",
       "        text-align: right;\n",
       "    }\n",
       "</style>\n",
       "<table border=\"1\" class=\"dataframe\">\n",
       "  <thead>\n",
       "    <tr style=\"text-align: right;\">\n",
       "      <th></th>\n",
       "      <th>Prob. of Default</th>\n",
       "      <th>loan_status_pred</th>\n",
       "    </tr>\n",
       "  </thead>\n",
       "  <tbody>\n",
       "    <tr>\n",
       "      <td>0</td>\n",
       "      <td>0.428949</td>\n",
       "      <td>1</td>\n",
       "    </tr>\n",
       "    <tr>\n",
       "      <td>1</td>\n",
       "      <td>0.604282</td>\n",
       "      <td>1</td>\n",
       "    </tr>\n",
       "    <tr>\n",
       "      <td>2</td>\n",
       "      <td>0.614335</td>\n",
       "      <td>1</td>\n",
       "    </tr>\n",
       "    <tr>\n",
       "      <td>3</td>\n",
       "      <td>0.364930</td>\n",
       "      <td>1</td>\n",
       "    </tr>\n",
       "    <tr>\n",
       "      <td>4</td>\n",
       "      <td>0.567694</td>\n",
       "      <td>1</td>\n",
       "    </tr>\n",
       "    <tr>\n",
       "      <td>...</td>\n",
       "      <td>...</td>\n",
       "      <td>...</td>\n",
       "    </tr>\n",
       "    <tr>\n",
       "      <td>627</td>\n",
       "      <td>0.460998</td>\n",
       "      <td>1</td>\n",
       "    </tr>\n",
       "    <tr>\n",
       "      <td>628</td>\n",
       "      <td>0.521903</td>\n",
       "      <td>1</td>\n",
       "    </tr>\n",
       "    <tr>\n",
       "      <td>629</td>\n",
       "      <td>0.385204</td>\n",
       "      <td>1</td>\n",
       "    </tr>\n",
       "    <tr>\n",
       "      <td>630</td>\n",
       "      <td>0.364311</td>\n",
       "      <td>1</td>\n",
       "    </tr>\n",
       "    <tr>\n",
       "      <td>631</td>\n",
       "      <td>0.517721</td>\n",
       "      <td>1</td>\n",
       "    </tr>\n",
       "  </tbody>\n",
       "</table>\n",
       "<p>632 rows × 2 columns</p>\n",
       "</div>"
      ],
      "text/plain": [
       "     Prob. of Default  loan_status_pred\n",
       "0            0.428949                 1\n",
       "1            0.604282                 1\n",
       "2            0.614335                 1\n",
       "3            0.364930                 1\n",
       "4            0.567694                 1\n",
       "..                ...               ...\n",
       "627          0.460998                 1\n",
       "628          0.521903                 1\n",
       "629          0.385204                 1\n",
       "630          0.364311                 1\n",
       "631          0.517721                 1\n",
       "\n",
       "[632 rows x 2 columns]"
      ]
     },
     "execution_count": 63,
     "metadata": {},
     "output_type": "execute_result"
    }
   ],
   "source": [
    "prob_default"
   ]
  },
  {
   "cell_type": "code",
   "execution_count": 72,
   "metadata": {},
   "outputs": [
    {
     "data": {
      "text/plain": [
       "0.8962264150943396"
      ]
     },
     "execution_count": 72,
     "metadata": {},
     "output_type": "execute_result"
    }
   ],
   "source": [
    "num_defaults = prob_default['loan_status_pred'].value_counts()[1]#Number of predicted defaults\n",
    "default_recall = precision_recall_fscore_support(y_test, prob_default['loan_status_pred'])[1][1]\n",
    "default_recall"
   ]
  },
  {
   "cell_type": "markdown",
   "metadata": {},
   "source": [
    "### Estimating Unexpected Loss"
   ]
  },
  {
   "cell_type": "code",
   "execution_count": 74,
   "metadata": {},
   "outputs": [
    {
     "name": "stdout",
     "output_type": "stream",
     "text": [
      "557264.1509433961\n"
     ]
    }
   ],
   "source": [
    "#calculating the estimated impact of the new default recall rate\n",
    "avg_loan_amnt = 10000 # $UDS\n",
    "print(num_defaults * avg_loan_amnt* (1- default_recall))"
   ]
  },
  {
   "cell_type": "markdown",
   "metadata": {},
   "source": [
    "The unexpected loss, while using a 50% threshold and USD 10,000.00 average loans, is USD 1,414,842.76"
   ]
  },
  {
   "cell_type": "markdown",
   "metadata": {},
   "source": [
    "### Threshold Selection\n",
    "One easy way to approximate a good starting threshold value is to create a plot using the accuracy, default recall, and non-default recall. "
   ]
  },
  {
   "cell_type": "code",
   "execution_count": 83,
   "metadata": {},
   "outputs": [
    {
     "data": {
      "text/plain": [
       "-0.10377358490566035"
      ]
     },
     "execution_count": 83,
     "metadata": {},
     "output_type": "execute_result"
    }
   ],
   "source": [
    "threshold=[0.1,0.2,0.3,0.4,0.5,0.6,0.7,0.8]\n",
    "defaultRecalls = precision_recall_fscore_support(y_test, prob_default['loan_status_pred'])\n",
    "nonDefaultRecalls = default_recall - 1\n",
    "nonDefaultRecalls"
   ]
  },
  {
   "cell_type": "code",
   "execution_count": null,
   "metadata": {},
   "outputs": [],
   "source": [
    "plt.plot(threshold,def_recalls)\n",
    "plt.plot(thresh,nonDefaultRecalls)\n",
    "plt.plot(thresh,accs)\n",
    "plt.xlabel(\"Probability Threshold\")\n",
    "plt.xticks(ticks)\n",
    "plt.legend([\"Default Recall\",\"Non-default Recall\",\"Model Accuracy\"])\n",
    "plt.show()"
   ]
  }
 ],
 "metadata": {
  "kernelspec": {
   "display_name": "Python 3",
   "language": "python",
   "name": "python3"
  },
  "language_info": {
   "codemirror_mode": {
    "name": "ipython",
    "version": 3
   },
   "file_extension": ".py",
   "mimetype": "text/x-python",
   "name": "python",
   "nbconvert_exporter": "python",
   "pygments_lexer": "ipython3",
   "version": "3.7.4"
  }
 },
 "nbformat": 4,
 "nbformat_minor": 2
}
