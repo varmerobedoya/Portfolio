{
 "cells": [
  {
   "cell_type": "markdown",
   "metadata": {},
   "source": [
    "# <font face=\"times\"><font size=\"6pt\"><p style = 'text-align: center;'><b>Data 765 | Introduction to Computational Social Science</b><br/><br/>\n",
    "<font face=\"times\"><font size=\"6pt\"><p style = 'text-align: center;'><b> Lesson 06 Homework</b><br/><br/>\n",
    "<font face=\"times\"><font size=\"6pt\"><p style = 'text-align: center;'><b> [10 Marks]</b><br/><br/>\n",
    "\n",
    "\n",
    "\n",
    "\n",
    "\n"
   ]
  },
  {
   "cell_type": "markdown",
   "metadata": {
    "collapsed": true
   },
   "source": [
    "## For the following questions, you'll need to find your own data. \n",
    "\n",
    "## Describe what the data are and what variables you'll be using. "
   ]
  },
  {
   "cell_type": "markdown",
   "metadata": {
    "collapsed": true
   },
   "source": [
    "### DATA = LendingClub.com dataset\n",
    "#### The dataset I am using comes from the LendingClub.com website. The file contaisn all accepted loans from 2007 to 4th quater 2018. The original file contains aroung 150 varialbes, however, for this exercise, I will be using only 10. The goal of this exercise is to predict the loan status given the inputs procided for my variables.\n",
    "### VARIABLES\n",
    "\n",
    "-loan_amnt - amount of money lended\n",
    "\n",
    "-emp_length - Number of years\n",
    "\n",
    "-home_ownership - Homeownership status (rent/own/mortgage)\n",
    "\n",
    "-annual_inc - Annual income in dollars\n",
    "\n",
    "-purpose - Purpose of the loan bein granted\n",
    "\n",
    "-fico_range_low - Credit score\n",
    "\n",
    "-fico_range_high - Credit score\n",
    "\n",
    "-term - Duration of the loan\n",
    "\n",
    "-loan_status - "
   ]
  },
  {
   "cell_type": "code",
   "execution_count": 1,
   "metadata": {},
   "outputs": [],
   "source": [
    "myVars=['loan_amnt','emp_length','home_ownership','annual_inc',\n",
    "        'purpose','fico_range_low','fico_range_high'] "
   ]
  },
  {
   "cell_type": "markdown",
   "metadata": {},
   "source": [
    "***\n",
    "***\n",
    "# Import all of the modules you'll be using here:"
   ]
  },
  {
   "cell_type": "code",
   "execution_count": 2,
   "metadata": {},
   "outputs": [],
   "source": [
    "import numpy as np\n",
    "import pandas as pd\n",
    "import matplotlib.pyplot as plt\n",
    "from matplotlib import cm\n",
    "%matplotlib inline\n",
    "from sklearn.model_selection import train_test_split\n",
    "from sklearn.neighbors import KNeighborsClassifier\n",
    "from pandas.plotting import scatter_matrix\n",
    "from sklearn.model_selection import GridSearchCV\n",
    "#from sklearn.cross_validation import train_test_split\n",
    "from sklearn import metrics\n",
    "from sklearn.svm import SVC"
   ]
  },
  {
   "cell_type": "markdown",
   "metadata": {},
   "source": [
    "***\n",
    "***\n",
    "\n",
    "\n",
    "# Question 1 of 5  [2 Marks]\n",
    "\n",
    "## Find a dataset and run your own `KNN`, using a value of K=10. \n",
    "\n",
    "## Be sure to create training and testing sets of data. "
   ]
  },
  {
   "cell_type": "markdown",
   "metadata": {},
   "source": [
    "### Since my dataset is too big (2M+ records), I decided to sample the data using the stratified sampling method. I will import every 100th record in the csv file. "
   ]
  },
  {
   "cell_type": "code",
   "execution_count": 3,
   "metadata": {},
   "outputs": [],
   "source": [
    "f='C:/Users/valej/Desktop/DATA-765/HWs/acceptedCreditsClean'\n",
    "n=100"
   ]
  },
  {
   "cell_type": "code",
   "execution_count": 4,
   "metadata": {},
   "outputs": [
    {
     "data": {
      "text/plain": [
       "2113758"
      ]
     },
     "execution_count": 4,
     "metadata": {},
     "output_type": "execute_result"
    }
   ],
   "source": [
    "num_lines=sum(1 for l in open(f))\n",
    "num_lines"
   ]
  },
  {
   "cell_type": "code",
   "execution_count": 5,
   "metadata": {},
   "outputs": [],
   "source": [
    "skip_index=[x for x in range(1, num_lines) if x % n !=0]"
   ]
  },
  {
   "cell_type": "code",
   "execution_count": 6,
   "metadata": {},
   "outputs": [],
   "source": [
    "df=pd.read_csv(f, skiprows=skip_index)"
   ]
  },
  {
   "cell_type": "code",
   "execution_count": 7,
   "metadata": {},
   "outputs": [
    {
     "name": "stdout",
     "output_type": "stream",
     "text": [
      "<class 'pandas.core.frame.DataFrame'>\n",
      "RangeIndex: 21137 entries, 0 to 21136\n",
      "Data columns (total 9 columns):\n",
      "Unnamed: 0         21137 non-null int64\n",
      "loan_amnt          21137 non-null float64\n",
      "emp_length         21137 non-null int64\n",
      "home_ownership     21137 non-null int64\n",
      "annual_inc         21137 non-null float64\n",
      "purpose            21137 non-null int64\n",
      "fico_range_low     21137 non-null float64\n",
      "fico_range_high    21137 non-null float64\n",
      "loan_status        21137 non-null object\n",
      "dtypes: float64(4), int64(4), object(1)\n",
      "memory usage: 1.5+ MB\n"
     ]
    }
   ],
   "source": [
    "df.info()"
   ]
  },
  {
   "cell_type": "code",
   "execution_count": 8,
   "metadata": {},
   "outputs": [],
   "source": [
    "X=df[myVars]\n",
    "y=df['loan_status']"
   ]
  },
  {
   "cell_type": "code",
   "execution_count": 9,
   "metadata": {},
   "outputs": [
    {
     "data": {
      "text/plain": [
       "KNeighborsClassifier(algorithm='auto', leaf_size=30, metric='minkowski',\n",
       "                     metric_params=None, n_jobs=None, n_neighbors=10, p=2,\n",
       "                     weights='uniform')"
      ]
     },
     "execution_count": 9,
     "metadata": {},
     "output_type": "execute_result"
    }
   ],
   "source": [
    "X_train, X_test, y_train, y_test = train_test_split(X,y,random_state=0)\n",
    "knn=KNeighborsClassifier(n_neighbors=10)\n",
    "knn.fit(X_train,y_train)"
   ]
  },
  {
   "cell_type": "markdown",
   "metadata": {
    "collapsed": true
   },
   "source": [
    "### Predicting - In order to predict the loan status, basically default or no default, I will use the following parameters in my model.\n",
    "\n",
    "*Loan Amount = $30,000<br>\n",
    "\n",
    "*Employment Lenght = 4 years (4)<br>\n",
    "\n",
    "*Home Ownership = Rent (2)<br>\n",
    "\n",
    "*Annual Income = $45,000 <br>\n",
    "\n",
    "*Purpose = Debt Consolidation (1) <br>\n",
    "\n",
    "*Fico Range Low = 725 <br>\n",
    "\n",
    "*Fico Range High = 729 <br>"
   ]
  },
  {
   "cell_type": "code",
   "execution_count": 10,
   "metadata": {},
   "outputs": [
    {
     "data": {
      "text/plain": [
       "'Good'"
      ]
     },
     "execution_count": 10,
     "metadata": {},
     "output_type": "execute_result"
    }
   ],
   "source": [
    "prediction=knn.predict([[30000,4,2,45000,1,725,729]])\n",
    "prediction[0]"
   ]
  },
  {
   "cell_type": "markdown",
   "metadata": {},
   "source": [
    "***\n",
    "***\n",
    "\n",
    "# Question 2 of 5  [2 Marks]\n",
    "\n",
    "## Run KNNs using the data you found in Question 1 and use GridSearch to find the optimal value of `K`. Which `K` worked best?\n",
    "\n",
    "## Calculate the precision and accuracy for this `K`. How does it compare to a `K` of 10?\n",
    "\n",
    "## Interpret these results. What do you see?"
   ]
  },
  {
   "cell_type": "code",
   "execution_count": 11,
   "metadata": {},
   "outputs": [],
   "source": [
    "param_grid = {'n_neighbors': np.arange(1, 10)} "
   ]
  },
  {
   "cell_type": "code",
   "execution_count": 12,
   "metadata": {},
   "outputs": [
    {
     "data": {
      "text/plain": [
       "GridSearchCV(cv=10, error_score='raise-deprecating',\n",
       "             estimator=KNeighborsClassifier(algorithm='auto', leaf_size=30,\n",
       "                                            metric='minkowski',\n",
       "                                            metric_params=None, n_jobs=None,\n",
       "                                            n_neighbors=10, p=2,\n",
       "                                            weights='uniform'),\n",
       "             iid='warn', n_jobs=None,\n",
       "             param_grid={'n_neighbors': array([1, 2, 3, 4, 5, 6, 7, 8, 9])},\n",
       "             pre_dispatch='2*n_jobs', refit=True, return_train_score=False,\n",
       "             scoring=None, verbose=0)"
      ]
     },
     "execution_count": 12,
     "metadata": {},
     "output_type": "execute_result"
    }
   ],
   "source": [
    "my_model_grid_search = GridSearchCV(knn, # My Model \n",
    "                                    param_grid, # My Parameters\n",
    "                                    cv=10) # Number of Crossfolds\n",
    "my_model_grid_search"
   ]
  },
  {
   "cell_type": "code",
   "execution_count": 13,
   "metadata": {},
   "outputs": [
    {
     "data": {
      "text/plain": [
       "GridSearchCV(cv=10, error_score='raise-deprecating',\n",
       "             estimator=KNeighborsClassifier(algorithm='auto', leaf_size=30,\n",
       "                                            metric='minkowski',\n",
       "                                            metric_params=None, n_jobs=None,\n",
       "                                            n_neighbors=10, p=2,\n",
       "                                            weights='uniform'),\n",
       "             iid='warn', n_jobs=None,\n",
       "             param_grid={'n_neighbors': array([1, 2, 3, 4, 5, 6, 7, 8, 9])},\n",
       "             pre_dispatch='2*n_jobs', refit=True, return_train_score=False,\n",
       "             scoring=None, verbose=0)"
      ]
     },
     "execution_count": 13,
     "metadata": {},
     "output_type": "execute_result"
    }
   ],
   "source": [
    "my_model_grid_search.fit(X,y)"
   ]
  },
  {
   "cell_type": "code",
   "execution_count": 14,
   "metadata": {},
   "outputs": [
    {
     "data": {
      "text/html": [
       "<div>\n",
       "<style scoped>\n",
       "    .dataframe tbody tr th:only-of-type {\n",
       "        vertical-align: middle;\n",
       "    }\n",
       "\n",
       "    .dataframe tbody tr th {\n",
       "        vertical-align: top;\n",
       "    }\n",
       "\n",
       "    .dataframe thead th {\n",
       "        text-align: right;\n",
       "    }\n",
       "</style>\n",
       "<table border=\"1\" class=\"dataframe\">\n",
       "  <thead>\n",
       "    <tr style=\"text-align: right;\">\n",
       "      <th></th>\n",
       "      <th>mean_fit_time</th>\n",
       "      <th>std_fit_time</th>\n",
       "      <th>mean_score_time</th>\n",
       "      <th>std_score_time</th>\n",
       "      <th>param_n_neighbors</th>\n",
       "      <th>params</th>\n",
       "      <th>split0_test_score</th>\n",
       "      <th>split1_test_score</th>\n",
       "      <th>split2_test_score</th>\n",
       "      <th>split3_test_score</th>\n",
       "      <th>split4_test_score</th>\n",
       "      <th>split5_test_score</th>\n",
       "      <th>split6_test_score</th>\n",
       "      <th>split7_test_score</th>\n",
       "      <th>split8_test_score</th>\n",
       "      <th>split9_test_score</th>\n",
       "      <th>mean_test_score</th>\n",
       "      <th>std_test_score</th>\n",
       "      <th>rank_test_score</th>\n",
       "    </tr>\n",
       "  </thead>\n",
       "  <tbody>\n",
       "    <tr>\n",
       "      <td>0</td>\n",
       "      <td>0.023242</td>\n",
       "      <td>0.003516</td>\n",
       "      <td>0.047247</td>\n",
       "      <td>0.003422</td>\n",
       "      <td>1</td>\n",
       "      <td>{'n_neighbors': 1}</td>\n",
       "      <td>0.763009</td>\n",
       "      <td>0.754494</td>\n",
       "      <td>0.780511</td>\n",
       "      <td>0.787133</td>\n",
       "      <td>0.780511</td>\n",
       "      <td>0.774361</td>\n",
       "      <td>0.789499</td>\n",
       "      <td>0.785714</td>\n",
       "      <td>0.768102</td>\n",
       "      <td>0.785511</td>\n",
       "      <td>0.776884</td>\n",
       "      <td>0.011047</td>\n",
       "      <td>8</td>\n",
       "    </tr>\n",
       "    <tr>\n",
       "      <td>1</td>\n",
       "      <td>0.021588</td>\n",
       "      <td>0.006058</td>\n",
       "      <td>0.050566</td>\n",
       "      <td>0.008338</td>\n",
       "      <td>2</td>\n",
       "      <td>{'n_neighbors': 2}</td>\n",
       "      <td>0.675024</td>\n",
       "      <td>0.665563</td>\n",
       "      <td>0.708136</td>\n",
       "      <td>0.698675</td>\n",
       "      <td>0.702460</td>\n",
       "      <td>0.690634</td>\n",
       "      <td>0.701514</td>\n",
       "      <td>0.706244</td>\n",
       "      <td>0.687648</td>\n",
       "      <td>0.706439</td>\n",
       "      <td>0.694233</td>\n",
       "      <td>0.013691</td>\n",
       "      <td>9</td>\n",
       "    </tr>\n",
       "    <tr>\n",
       "      <td>2</td>\n",
       "      <td>0.023568</td>\n",
       "      <td>0.007040</td>\n",
       "      <td>0.045382</td>\n",
       "      <td>0.006016</td>\n",
       "      <td>3</td>\n",
       "      <td>{'n_neighbors': 3}</td>\n",
       "      <td>0.831599</td>\n",
       "      <td>0.820246</td>\n",
       "      <td>0.837275</td>\n",
       "      <td>0.837275</td>\n",
       "      <td>0.837275</td>\n",
       "      <td>0.826395</td>\n",
       "      <td>0.843898</td>\n",
       "      <td>0.831126</td>\n",
       "      <td>0.831992</td>\n",
       "      <td>0.833807</td>\n",
       "      <td>0.833089</td>\n",
       "      <td>0.006221</td>\n",
       "      <td>6</td>\n",
       "    </tr>\n",
       "    <tr>\n",
       "      <td>3</td>\n",
       "      <td>0.022274</td>\n",
       "      <td>0.008382</td>\n",
       "      <td>0.045713</td>\n",
       "      <td>0.004417</td>\n",
       "      <td>4</td>\n",
       "      <td>{'n_neighbors': 4}</td>\n",
       "      <td>0.802271</td>\n",
       "      <td>0.790445</td>\n",
       "      <td>0.811258</td>\n",
       "      <td>0.808420</td>\n",
       "      <td>0.809366</td>\n",
       "      <td>0.792810</td>\n",
       "      <td>0.822138</td>\n",
       "      <td>0.801325</td>\n",
       "      <td>0.800757</td>\n",
       "      <td>0.808712</td>\n",
       "      <td>0.804750</td>\n",
       "      <td>0.008811</td>\n",
       "      <td>7</td>\n",
       "    </tr>\n",
       "    <tr>\n",
       "      <td>4</td>\n",
       "      <td>0.024243</td>\n",
       "      <td>0.005020</td>\n",
       "      <td>0.048102</td>\n",
       "      <td>0.003223</td>\n",
       "      <td>5</td>\n",
       "      <td>{'n_neighbors': 5}</td>\n",
       "      <td>0.850520</td>\n",
       "      <td>0.839640</td>\n",
       "      <td>0.856197</td>\n",
       "      <td>0.858562</td>\n",
       "      <td>0.855251</td>\n",
       "      <td>0.846736</td>\n",
       "      <td>0.856670</td>\n",
       "      <td>0.853359</td>\n",
       "      <td>0.848557</td>\n",
       "      <td>0.853693</td>\n",
       "      <td>0.851918</td>\n",
       "      <td>0.005406</td>\n",
       "      <td>4</td>\n",
       "    </tr>\n",
       "    <tr>\n",
       "      <td>5</td>\n",
       "      <td>0.021998</td>\n",
       "      <td>0.003066</td>\n",
       "      <td>0.047416</td>\n",
       "      <td>0.004326</td>\n",
       "      <td>6</td>\n",
       "      <td>{'n_neighbors': 6}</td>\n",
       "      <td>0.836802</td>\n",
       "      <td>0.830180</td>\n",
       "      <td>0.843898</td>\n",
       "      <td>0.849574</td>\n",
       "      <td>0.841533</td>\n",
       "      <td>0.830180</td>\n",
       "      <td>0.846736</td>\n",
       "      <td>0.840114</td>\n",
       "      <td>0.834359</td>\n",
       "      <td>0.847538</td>\n",
       "      <td>0.840091</td>\n",
       "      <td>0.006680</td>\n",
       "      <td>5</td>\n",
       "    </tr>\n",
       "    <tr>\n",
       "      <td>6</td>\n",
       "      <td>0.024508</td>\n",
       "      <td>0.003771</td>\n",
       "      <td>0.047224</td>\n",
       "      <td>0.006078</td>\n",
       "      <td>7</td>\n",
       "      <td>{'n_neighbors': 7}</td>\n",
       "      <td>0.861400</td>\n",
       "      <td>0.854778</td>\n",
       "      <td>0.862346</td>\n",
       "      <td>0.865658</td>\n",
       "      <td>0.860454</td>\n",
       "      <td>0.857616</td>\n",
       "      <td>0.861873</td>\n",
       "      <td>0.861400</td>\n",
       "      <td>0.858022</td>\n",
       "      <td>0.865530</td>\n",
       "      <td>0.860907</td>\n",
       "      <td>0.003230</td>\n",
       "      <td>2</td>\n",
       "    </tr>\n",
       "    <tr>\n",
       "      <td>7</td>\n",
       "      <td>0.021231</td>\n",
       "      <td>0.002381</td>\n",
       "      <td>0.050237</td>\n",
       "      <td>0.005036</td>\n",
       "      <td>8</td>\n",
       "      <td>{'n_neighbors': 8}</td>\n",
       "      <td>0.856670</td>\n",
       "      <td>0.850047</td>\n",
       "      <td>0.855724</td>\n",
       "      <td>0.859981</td>\n",
       "      <td>0.851466</td>\n",
       "      <td>0.851939</td>\n",
       "      <td>0.860454</td>\n",
       "      <td>0.853832</td>\n",
       "      <td>0.852816</td>\n",
       "      <td>0.864110</td>\n",
       "      <td>0.855703</td>\n",
       "      <td>0.004340</td>\n",
       "      <td>3</td>\n",
       "    </tr>\n",
       "    <tr>\n",
       "      <td>8</td>\n",
       "      <td>0.022242</td>\n",
       "      <td>0.003126</td>\n",
       "      <td>0.048010</td>\n",
       "      <td>0.003656</td>\n",
       "      <td>9</td>\n",
       "      <td>{'n_neighbors': 9}</td>\n",
       "      <td>0.866131</td>\n",
       "      <td>0.865658</td>\n",
       "      <td>0.863292</td>\n",
       "      <td>0.864238</td>\n",
       "      <td>0.861873</td>\n",
       "      <td>0.863292</td>\n",
       "      <td>0.866131</td>\n",
       "      <td>0.863765</td>\n",
       "      <td>0.862754</td>\n",
       "      <td>0.866477</td>\n",
       "      <td>0.864361</td>\n",
       "      <td>0.001544</td>\n",
       "      <td>1</td>\n",
       "    </tr>\n",
       "  </tbody>\n",
       "</table>\n",
       "</div>"
      ],
      "text/plain": [
       "   mean_fit_time  std_fit_time  mean_score_time  std_score_time  \\\n",
       "0       0.023242      0.003516         0.047247        0.003422   \n",
       "1       0.021588      0.006058         0.050566        0.008338   \n",
       "2       0.023568      0.007040         0.045382        0.006016   \n",
       "3       0.022274      0.008382         0.045713        0.004417   \n",
       "4       0.024243      0.005020         0.048102        0.003223   \n",
       "5       0.021998      0.003066         0.047416        0.004326   \n",
       "6       0.024508      0.003771         0.047224        0.006078   \n",
       "7       0.021231      0.002381         0.050237        0.005036   \n",
       "8       0.022242      0.003126         0.048010        0.003656   \n",
       "\n",
       "  param_n_neighbors              params  split0_test_score  split1_test_score  \\\n",
       "0                 1  {'n_neighbors': 1}           0.763009           0.754494   \n",
       "1                 2  {'n_neighbors': 2}           0.675024           0.665563   \n",
       "2                 3  {'n_neighbors': 3}           0.831599           0.820246   \n",
       "3                 4  {'n_neighbors': 4}           0.802271           0.790445   \n",
       "4                 5  {'n_neighbors': 5}           0.850520           0.839640   \n",
       "5                 6  {'n_neighbors': 6}           0.836802           0.830180   \n",
       "6                 7  {'n_neighbors': 7}           0.861400           0.854778   \n",
       "7                 8  {'n_neighbors': 8}           0.856670           0.850047   \n",
       "8                 9  {'n_neighbors': 9}           0.866131           0.865658   \n",
       "\n",
       "   split2_test_score  split3_test_score  split4_test_score  split5_test_score  \\\n",
       "0           0.780511           0.787133           0.780511           0.774361   \n",
       "1           0.708136           0.698675           0.702460           0.690634   \n",
       "2           0.837275           0.837275           0.837275           0.826395   \n",
       "3           0.811258           0.808420           0.809366           0.792810   \n",
       "4           0.856197           0.858562           0.855251           0.846736   \n",
       "5           0.843898           0.849574           0.841533           0.830180   \n",
       "6           0.862346           0.865658           0.860454           0.857616   \n",
       "7           0.855724           0.859981           0.851466           0.851939   \n",
       "8           0.863292           0.864238           0.861873           0.863292   \n",
       "\n",
       "   split6_test_score  split7_test_score  split8_test_score  split9_test_score  \\\n",
       "0           0.789499           0.785714           0.768102           0.785511   \n",
       "1           0.701514           0.706244           0.687648           0.706439   \n",
       "2           0.843898           0.831126           0.831992           0.833807   \n",
       "3           0.822138           0.801325           0.800757           0.808712   \n",
       "4           0.856670           0.853359           0.848557           0.853693   \n",
       "5           0.846736           0.840114           0.834359           0.847538   \n",
       "6           0.861873           0.861400           0.858022           0.865530   \n",
       "7           0.860454           0.853832           0.852816           0.864110   \n",
       "8           0.866131           0.863765           0.862754           0.866477   \n",
       "\n",
       "   mean_test_score  std_test_score  rank_test_score  \n",
       "0         0.776884        0.011047                8  \n",
       "1         0.694233        0.013691                9  \n",
       "2         0.833089        0.006221                6  \n",
       "3         0.804750        0.008811                7  \n",
       "4         0.851918        0.005406                4  \n",
       "5         0.840091        0.006680                5  \n",
       "6         0.860907        0.003230                2  \n",
       "7         0.855703        0.004340                3  \n",
       "8         0.864361        0.001544                1  "
      ]
     },
     "execution_count": 14,
     "metadata": {},
     "output_type": "execute_result"
    }
   ],
   "source": [
    "pd.DataFrame(my_model_grid_search.cv_results_)"
   ]
  },
  {
   "cell_type": "markdown",
   "metadata": {
    "collapsed": true
   },
   "source": [
    "## Concusion\n",
    "### The mean_test_score is an increasing function of the K. As k increases the accuracy of the model increases. "
   ]
  },
  {
   "cell_type": "markdown",
   "metadata": {},
   "source": [
    "***\n",
    "***\n",
    "\n",
    "# Question 3 of 5  [2 Marks]\n",
    "\n",
    "##  Using your data, run an SVM model. "
   ]
  },
  {
   "cell_type": "code",
   "execution_count": 15,
   "metadata": {},
   "outputs": [
    {
     "name": "stderr",
     "output_type": "stream",
     "text": [
      "C:\\Users\\valej\\Anaconda3\\lib\\site-packages\\sklearn\\svm\\base.py:193: FutureWarning: The default value of gamma will change from 'auto' to 'scale' in version 0.22 to account better for unscaled features. Set gamma explicitly to 'auto' or 'scale' to avoid this warning.\n",
      "  \"avoid this warning.\", FutureWarning)\n"
     ]
    }
   ],
   "source": [
    "X_train, X_test, y_train, y_test = train_test_split(X,y, random_state=0)\n",
    "clf = SVC().fit(X_train, y_train)\n",
    "y_prediction = clf.predict(X_test)\n"
   ]
  },
  {
   "cell_type": "markdown",
   "metadata": {},
   "source": [
    "***\n",
    "***\n",
    "\n",
    "# Question 4 of 5  [2 Marks]\n",
    "\n",
    "## For the SVM model you ran in Question 3, calculate the precision and accuracy. \n",
    "\n",
    "## How does this compare to the KNN models you just ran?\n",
    "\n",
    "## How do you interpret these SVM results?\n"
   ]
  },
  {
   "cell_type": "code",
   "execution_count": 16,
   "metadata": {},
   "outputs": [
    {
     "name": "stdout",
     "output_type": "stream",
     "text": [
      "accuracy: 0.8700094607379376\n",
      "precision: 0.7913471566921041\n",
      "recall: 0.8700094607379376\n",
      "f1 score: 0.8116674417603661\n"
     ]
    }
   ],
   "source": [
    "print(\"accuracy:\", metrics.accuracy_score(y_test, y_prediction))\n",
    "print(\"precision:\", metrics.precision_score(y_test, y_prediction,average='weighted'))\n",
    "print(\"recall:\", metrics.recall_score(y_test, y_prediction,average='weighted'))\n",
    "print(\"f1 score:\", metrics.f1_score(y_test, y_prediction,average='weighted'))"
   ]
  },
  {
   "cell_type": "markdown",
   "metadata": {
    "collapsed": true
   },
   "source": [
    "### The mean test score for the knn while using K=10 is very close to the accuracy in the SVM model. They are both close to 0.86."
   ]
  },
  {
   "cell_type": "markdown",
   "metadata": {},
   "source": [
    "***\n",
    "***\n",
    "\n",
    "# Question 5 of 5  [2 Marks]\n",
    "\n",
    "## Using your SVM and the function from the Lesson 06 lecture, plot the support vectors. \n",
    "\n",
    "## What do you see here?"
   ]
  },
  {
   "cell_type": "code",
   "execution_count": 17,
   "metadata": {},
   "outputs": [
    {
     "data": {
      "image/png": "[encoded data removed]",
      "text/plain": [
       "<Figure size 432x288 with 1 Axes>"
      ]
     },
     "metadata": {
      "needs_background": "light"
     },
     "output_type": "display_data"
    }
   ],
   "source": [
    "from sklearn.datasets.samples_generator import make_blobs\n",
    "X, y = make_blobs(n_samples=50, centers=2,\n",
    "                  random_state=0, cluster_std=0.60)\n",
    "\n",
    "plt.figure()\n",
    "plt.scatter(X[:, 0], X[:, 1], c=y, s=50);"
   ]
  },
  {
   "cell_type": "code",
   "execution_count": 18,
   "metadata": {},
   "outputs": [
    {
     "data": {
      "text/plain": [
       "SVC(C=1.0, cache_size=200, class_weight=None, coef0=0.0,\n",
       "    decision_function_shape='ovr', degree=3, gamma='auto_deprecated',\n",
       "    kernel='linear', max_iter=-1, probability=False, random_state=None,\n",
       "    shrinking=True, tol=0.001, verbose=False)"
      ]
     },
     "execution_count": 18,
     "metadata": {},
     "output_type": "execute_result"
    }
   ],
   "source": [
    "clf = SVC(kernel='linear')\n",
    "clf.fit(X, y)"
   ]
  },
  {
   "cell_type": "code",
   "execution_count": 19,
   "metadata": {},
   "outputs": [],
   "source": [
    "def plot_svc_decision_function(clf):\n",
    "    \"\"\"Plot the decision function for a 2D SVC\"\"\"\n",
    "    x = np.linspace(plt.xlim()[0], plt.xlim()[1], 30)\n",
    "    y = np.linspace(plt.ylim()[0], plt.ylim()[1], 30)\n",
    "    Y, X = np.meshgrid(y, x)\n",
    "    P = np.zeros_like(X)\n",
    "    for i, xi in enumerate(x):\n",
    "        for j, yj in enumerate(y):\n",
    "            P[i, j] = clf.decision_function([[xi, yj]])\n",
    "    return plt.contour(X, Y, P, \n",
    "                       colors='k',\n",
    "                       levels=[-1, 0, 1],\n",
    "                       linestyles=['--', '-', '--'])"
   ]
  },
  {
   "cell_type": "code",
   "execution_count": 20,
   "metadata": {},
   "outputs": [
    {
     "data": {
      "image/png": "[encoded data removed]",
      "text/plain": [
       "<Figure size 432x288 with 1 Axes>"
      ]
     },
     "metadata": {
      "needs_background": "light"
     },
     "output_type": "display_data"
    }
   ],
   "source": [
    "plt.figure()\n",
    "plt.scatter(X[:,0],X[:,1],c=y,s=50)\n",
    "plot_svc_decision_function(clf);"
   ]
  },
  {
   "cell_type": "code",
   "execution_count": null,
   "metadata": {},
   "outputs": [],
   "source": []
  },
  {
   "cell_type": "code",
   "execution_count": null,
   "metadata": {},
   "outputs": [],
   "source": []
  }
 ],
 "metadata": {
  "kernelspec": {
   "display_name": "Python 3",
   "language": "python",
   "name": "python3"
  },
  "language_info": {
   "codemirror_mode": {
    "name": "ipython",
    "version": 3
   },
   "file_extension": ".py",
   "mimetype": "text/x-python",
   "name": "python",
   "nbconvert_exporter": "python",
   "pygments_lexer": "ipython3",
   "version": "3.7.4"
  }
 },
 "nbformat": 4,
 "nbformat_minor": 1
}
